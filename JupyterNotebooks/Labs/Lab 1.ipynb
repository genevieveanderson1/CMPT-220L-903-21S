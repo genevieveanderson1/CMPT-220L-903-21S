{
 "cells": [
  {
   "cell_type": "markdown",
   "metadata": {},
   "source": [
    "# Lab One\n",
    "---\n",
    "\n",
    "Ok for this lab we're going to reiterate a lot of the things that we went over in class.\n",
    "\n",
    "Our Goals are:\n",
    "- Binary Math\n",
    "- Defining Variables\n",
    "    - Primitive Types\n",
    "    - Reference Types\n",
    "- Using Math\n",
    "- Manipulating Variables"
   ]
  },
  {
   "cell_type": "markdown",
   "metadata": {},
   "source": [
    "For this section I just want you to type the answer. I know that you can just look this up but try and do the math. \n",
    "Commit Example\n",
    "### What is 1000 in Decimal\n",
    "### 2^3 + 0 + 0 + 0 = 8\n",
    "\n",
    "### What is 1000 1001 in Decimal (This is a byte. It's just split for readability)\n",
    "### 2^7 + 0 + 0 + 0 + 2^3 + 0 + 0 + 2^0\n",
    "### 128 + 8 + 1 = 137\n",
    "\n",
    "### What is 1010 1111 in Decimal (This is a byte. It's just split for readability)\n",
    "### 2^7 + 0 + 2^5 + 0 + 2^3 + 2^2 + 2^1 + 2^0\n",
    "### 128 + 32 + 8 + 4 + 2 + 1 = 175\n",
    "\n",
    "### What is 0101 1010 in Decimal (This is a byte. It's just split for readability)\n",
    "### 0 + 2^6 + 0 + 2^4 + 2^3 + 0 + 2^1 + 0\n",
    "### 64 + 16 + 8 + 2 = 90"
   ]
  },
  {
   "cell_type": "code",
   "execution_count": 31,
   "metadata": {},
   "outputs": [
    {
     "name": "stdout",
     "output_type": "stream",
     "text": [
      "8\n",
      "10.0\n",
      "true\n",
      "100\n",
      "4\n",
      "40\n",
      "-5.0\n",
      "a\n"
     ]
    }
   ],
   "source": [
    "// Define 8 variables, one of each type listed: [boolean, byte, short, int, long, float, double, char]. Print all 8 of them.\n",
    "\n",
    "int number = 8;\n",
    "float decimal = 10;\n",
    "boolean user = true;\n",
    "byte b = 100;\n",
    "short var1 = 4;\n",
    "long var2 = 40;\n",
    "double var3 = -5;\n",
    "char letter = 'a';\n",
    "\n",
    "System.out.println(number);\n",
    "System.out.println(decimal);\n",
    "System.out.println(user);\n",
    "System.out.println(b);\n",
    "System.out.println(var1);\n",
    "System.out.println(var2);\n",
    "System.out.println(var3);\n",
    "System.out.println(letter);\n",
    "\n",
    "\n"
   ]
  },
  {
   "cell_type": "code",
   "execution_count": 35,
   "metadata": {},
   "outputs": [],
   "source": [
    "// Make me a list of any type\n",
    "import java.util.ArrayList;\n",
    "import java.util.Arrays;\n",
    "import java.util.LinkedList;\n",
    "\n",
    "public class App {\n",
    "    public static void main(String[] args) throws Exception {\n",
    "        Integer[] num = {1, 2, 3, 4, 5};\n",
    "        System.out.println(Arrays.toString(num));\n",
    "\n",
    "    }\n",
    "}\n"
   ]
  },
  {
   "cell_type": "code",
   "execution_count": 36,
   "metadata": {},
   "outputs": [
    {
     "name": "stdout",
     "output_type": "stream",
     "text": [
      "3\n",
      "-1\n",
      "2\n",
      "0\n",
      "1\n"
     ]
    }
   ],
   "source": [
    "// With whatever variables youd like demonstrate the following: [Addition, Subtraction, Division, Multiplication, Modulo]. Print all 5.\n",
    "int one = 1;\n",
    "int two = 2;\n",
    "System.out.println(one + two);\n",
    "System.out.println(one - two);\n",
    "System.out.println(one * two);\n",
    "System.out.println(one / two);\n",
    "System.out.println(one % two);"
   ]
  },
  {
   "cell_type": "code",
   "execution_count": 4,
   "metadata": {},
   "outputs": [
    {
     "name": "stdout",
     "output_type": "stream",
     "text": [
      "57\n"
     ]
    }
   ],
   "source": [
    "// Using 2 variables and addition print the number 57\n",
    "int number1 = 50; \n",
    "int number2 = 7;\n",
    "System.out.println(number1 + number2);"
   ]
  },
  {
   "cell_type": "code",
   "execution_count": 24,
   "metadata": {},
   "outputs": [
    {
     "name": "stdout",
     "output_type": "stream",
     "text": [
      "5\n",
      "6\n"
     ]
    }
   ],
   "source": [
    "// Define a variable and print it out. Then alter the same variable and print it out. This can be through string concatenation or addition, etc.\n",
    "int red = 5;\n",
    "System.out.println(red);\n",
    "red += 1;\n",
    "System.out.println(red);"
   ]
  }
 ],
 "metadata": {
  "kernelspec": {
   "display_name": "Java",
   "language": "java",
   "name": "java"
  },
  "language_info": {
   "codemirror_mode": "java",
   "file_extension": ".jshell",
   "mimetype": "text/x-java-source",
   "name": "Java",
   "pygments_lexer": "java",
   "version": "15.0.2+7-27"
  },
  "orig_nbformat": 2
 },
 "nbformat": 4,
 "nbformat_minor": 2
}