{
 "cells": [
  {
   "cell_type": "markdown",
   "metadata": {},
   "source": [
    "# Lab Three\n",
    "---\n",
    "\n",
    "For this lab we're going to be making and using a bunch of functions. \n",
    "\n",
    "Our Goals are:\n",
    "- Switch Case\n",
    "- Looping\n",
    "- Making our own functions\n",
    "- Combining functions\n",
    "- Structuring solutions"
   ]
  },
  {
   "cell_type": "code",
   "execution_count": 44,
   "metadata": {},
   "outputs": [
    {
     "name": "stdout",
     "output_type": "stream",
     "text": [
      "breakfast is the best meal of the day\n",
      "lunch is my favorite meal\n",
      "i like dinner the best\n",
      "food is good\n"
     ]
    }
   ],
   "source": [
    "// Give me an example of you using switch case.\n",
    "\n",
    "String starter = \"breakfast\";\n",
    "\n",
    "switch(starter){\n",
    "    case \"breakfast\":\n",
    "        System.out.println(\"breakfast is the best meal of the day\");\n",
    "    case \"lunch\":\n",
    "        System.out.println(\"lunch is my favorite meal\");\n",
    "    case \"dinner\":\n",
    "        System.out.println(\"i like dinner the best\");\n",
    "    default:\n",
    "        System.out.println(\"food is good\");\n",
    "}"
   ]
  },
  {
   "cell_type": "code",
   "execution_count": 7,
   "metadata": {},
   "outputs": [
    {
     "name": "stdout",
     "output_type": "stream",
     "text": [
      "printing:0\n",
      "printing:1\n",
      "printing:2\n",
      "printing:3\n",
      "printing:4\n",
      "printing:5\n",
      "printing:6\n",
      "printing:7\n",
      "printing:8\n",
      "printing:9\n"
     ]
    }
   ],
   "source": [
    "// Give me an example of you using a for loop\n",
    "\n",
    "for (int x = 0; x < 10; x++) {\n",
    "    System.out.println(\"printing:\" + x);\n",
    "}"
   ]
  },
  {
   "cell_type": "code",
   "execution_count": 8,
   "metadata": {},
   "outputs": [
    {
     "name": "stdout",
     "output_type": "stream",
     "text": [
      "Eggs\n",
      "Bacon\n",
      "Pancakes\n"
     ]
    }
   ],
   "source": [
    "// Give me an example of you using a for each loop\n",
    "\n",
    "String[] Breakfast = {\"Eggs\", \"Bacon\", \"Pancakes\"};\n",
    "\n",
    "for (String foods: Breakfast) {\n",
    "    System.out.println(foods);\n",
    "}"
   ]
  },
  {
   "cell_type": "code",
   "execution_count": 9,
   "metadata": {},
   "outputs": [
    {
     "name": "stdout",
     "output_type": "stream",
     "text": [
      "0\n",
      "1\n",
      "2\n",
      "3\n",
      "4\n",
      "5\n",
      "6\n",
      "7\n",
      "8\n",
      "9\n"
     ]
    }
   ],
   "source": [
    "// Give me an example of you using a while loop\n",
    "\n",
    "int num = 0;\n",
    "\n",
    "while(num < 10) {\n",
    "    System.out.println(num);\n",
    "    num++;\n",
    "}"
   ]
  },
  {
   "cell_type": "code",
   "execution_count": 38,
   "metadata": {},
   "outputs": [
    {
     "name": "stdout",
     "output_type": "stream",
     "text": [
      "8.0\n"
     ]
    }
   ],
   "source": [
    "// I want you to write a function that will take in a number and raise it to the power given. \n",
    "\n",
    "// For example if given the numbers 2 and 3. The math that the function should do is 2^3 and should print out or return 8. Print the output.\n",
    "\n",
    "double power (double base, double exponet) {\n",
    "    return Math.pow(base, exponet);\n",
    "}\n",
    "\n",
    "System.out.println(power(2, 3));"
   ]
  },
  {
   "cell_type": "code",
   "execution_count": 45,
   "metadata": {},
   "outputs": [
    {
     "name": "stdout",
     "output_type": "stream",
     "text": [
      "3\n"
     ]
    }
   ],
   "source": [
    "// I want you to write a function that will take in a list and see how many times a given number is in the list. \n",
    "\n",
    "// For example if the array given is [2,3,5,2,3,6,7,8,2] and the number given is 2 the function should print out or return 3. Print the output.\n",
    "\n",
    "int countlist(int num, int userlist[]){\n",
    "    int track = 0;\n",
    "    int length = userlist.length;\n",
    "    if (userlist.length == 0){\n",
    "        System.out.println(\"The array provided was empty\");\n",
    "    }\n",
    "    for (int x = 0; x < length; x++)\n",
    "        if(num == userlist[x])\n",
    "            track++;\n",
    "    return track;\n",
    "}\n",
    "\n",
    "int list1[] = {2, 3, 5, 2, 3, 6, 7, 8, 2};\n",
    "int number = 2;\n",
    "System.out.println(countlist(number, list1));"
   ]
  },
  {
   "cell_type": "code",
   "execution_count": 39,
   "metadata": {},
   "outputs": [
    {
     "name": "stdout",
     "output_type": "stream",
     "text": [
      "c is 5.0 and c sqaured was 25.0\n"
     ]
    }
   ],
   "source": [
    "// Give me a function that gives the answer to the pythagorean theorem. \n",
    "// Id like you to reuse the exponent function from above as well as the functions below to make your function.\n",
    "\n",
    "// If you dont remember the pythagorean theorem the formula is (a^2 + b^2 = c^2). Given a and b as parameters i'd like you to return c. \n",
    "// If this doesnt make sense look up `Pythagorean Theorem Formula` on google.\n",
    "\n",
    "double addition(double a, double b) {\n",
    "    double answer = a + b;\n",
    "    return answer;\n",
    "}\n",
    "\n",
    "double division(int a, int b) {\n",
    "    int answer = a / b;\n",
    "    return answer;\n",
    "}\n",
    "\n",
    "void pythagorean_theorem(int a, int b) {\n",
    "    double a_square = power(a, 2);\n",
    "    double b_square = power(b, 2);\n",
    "    double c_square = addition(a_square, b_square);\n",
    "    double c = Math.sqrt(c_square);\n",
    "\n",
    "    System.out.println(\"c is \" + c + \" and c sqaured was \" + c_square);\n",
    "}\n",
    "\n",
    "pythagorean_theorem(3, 4);\n",
    "\n"
   ]
  }
 ],
 "metadata": {
  "kernelspec": {
   "display_name": "Java",
   "language": "java",
   "name": "java"
  },
  "language_info": {
   "codemirror_mode": {
    "name": "ipython",
    "version": 3
   },
   "file_extension": ".py",
   "mimetype": "text/x-python",
   "name": "python",
   "nbconvert_exporter": "python",
   "pygments_lexer": "ipython3",
   "version": "3.8.5-final"
  },
  "orig_nbformat": 2
 },
 "nbformat": 4,
 "nbformat_minor": 2
}